{
 "cells": [
  {
   "cell_type": "markdown",
   "id": "2fa8b039",
   "metadata": {},
   "source": [
    "## Arithmetic Operators"
   ]
  },
  {
   "cell_type": "code",
   "execution_count": 17,
   "id": "be267969",
   "metadata": {},
   "outputs": [
    {
     "name": "stdout",
     "output_type": "stream",
     "text": [
      "Addition: 13\n",
      "Subtraction: 7\n",
      "Multiplication: 30\n",
      "Division: 3.3333333333333335\n",
      "Floor Division: 3\n",
      "Modulus: 1\n",
      "Exponentiation: 1000\n"
     ]
    }
   ],
   "source": [
    "# Arithmetic Operators\n",
    "# Python supports basic arithmetic operations:\n",
    "# Addition (+), Subtraction (-), Multiplication (*), Division (/), Modulus (%), Exponentiation (**)\n",
    "\n",
    "a = 10\n",
    "b = 3\n",
    "\n",
    "print(\"Addition:\", a + b)\n",
    "print(\"Subtraction:\", a - b) # Your code from here and on \n",
    "print(\"Multiplication:\", a * b)\n",
    "print(\"Division:\", a / b)\n",
    "print(\"Floor Division:\", a // b)\n",
    "print(\"Modulus:\", a % b)\n",
    "print(\"Exponentiation:\", a ** b)\n"
   ]
  },
  {
   "cell_type": "markdown",
   "id": "b1f46671",
   "metadata": {},
   "source": [
    "## Expressions"
   ]
  },
  {
   "cell_type": "code",
   "execution_count": 19,
   "id": "ebdd5307",
   "metadata": {},
   "outputs": [
    {
     "name": "stdout",
     "output_type": "stream",
     "text": [
      "Expression result: a = 25  b = 13\n"
     ]
    }
   ],
   "source": [
    "# Expressions\n",
    "# An expression is a combination of values, variables, and operators that Python can evaluate.\n",
    "\n",
    "x = 5\n",
    "y = 2\n",
    "a = x * (y + 3) # Your code to change a and b to different expressions\n",
    "b = x * y + 3\n",
    "\n",
    "print(\"Expression result: a =\", a, \" b =\", b)"
   ]
  },
  {
   "cell_type": "markdown",
   "id": "da622ebd",
   "metadata": {},
   "source": [
    "## Arithmetic Functions"
   ]
  },
  {
   "cell_type": "code",
   "execution_count": 20,
   "id": "8f87d071",
   "metadata": {},
   "outputs": [
    {
     "name": "stdout",
     "output_type": "stream",
     "text": [
      "Absolute value: 7.89627\n",
      "Rounded value: -7.896\n",
      "Absolute value: 32.91812\n",
      "Rounded value: 32.918\n"
     ]
    }
   ],
   "source": [
    "# Arithmetic Functions\n",
    "# Python provides built-in functions like round() and abs()\n",
    "\n",
    "value = -7.89627\n",
    "\n",
    "print(\"Absolute value:\", abs(value))\n",
    "print(\"Rounded value:\", round(value, 3))\n",
    "\n",
    "# Your code here\n",
    "\n",
    "value = 32.91812\n",
    "\n",
    "print(\"Absolute value:\", abs(value))\n",
    "print(\"Rounded value:\", round(value, 3))"
   ]
  },
  {
   "cell_type": "markdown",
   "id": "ee503e8f",
   "metadata": {},
   "source": [
    "## Strings"
   ]
  },
  {
   "cell_type": "code",
   "execution_count": 21,
   "id": "bdcb4d75",
   "metadata": {},
   "outputs": [
    {
     "name": "stdout",
     "output_type": "stream",
     "text": [
      "Hello, World!\n",
      "Hello, World!\n",
      "Length of string 1: 13\n",
      "Uppercase: HELLO, WORLD!\n",
      "Welcome to Python!\n",
      "Have a great day!\n",
      "Length of string 1: 18\n",
      "Uppercase: HAVE A GREAT DAY!\n"
     ]
    }
   ],
   "source": [
    "# Strings\n",
    "# Strings are sequences of characters enclosed in quotes.\n",
    "\n",
    "greeting1 = \"Hello, World!\"\n",
    "greeting2 = 'Hello' + ', ' + \"World!\"\n",
    "print(greeting1)\n",
    "print(greeting2)\n",
    "print(\"Length of string 1:\", len(greeting1))\n",
    "print(\"Uppercase:\", greeting2.upper())\n",
    "\n",
    "# Your code here\n",
    "\n",
    "greeting1 = \"Welcome to Python!\"\n",
    "greeting2 = 'Have a great day' + '!'\n",
    "print(greeting1)\n",
    "print(greeting2)\n",
    "print(\"Length of string 1:\", len(greeting1))\n",
    "print(\"Uppercase:\", greeting2.upper())"
   ]
  },
  {
   "cell_type": "markdown",
   "id": "aec13de8",
   "metadata": {},
   "source": [
    "## Values and Variables"
   ]
  },
  {
   "cell_type": "code",
   "execution_count": 22,
   "id": "74303a9a",
   "metadata": {},
   "outputs": [
    {
     "name": "stdout",
     "output_type": "stream",
     "text": [
      "Type of num: <class 'int'>\n",
      "Type of text: <class 'str'>\n",
      "Convert string to int: 123\n",
      "Convert string to float: 123.456\n",
      "Convert float to int: 123\n",
      "<class 'int'>\n",
      "123\n"
     ]
    }
   ],
   "source": [
    "# Values and Variables\n",
    "# Variables store values. Use type() to check the type of a value.\n",
    "\n",
    "num = 42\n",
    "text = \"Python\"\n",
    "int_num = int(\"123\")\n",
    "\n",
    "print(\"Type of num:\", type(num))\n",
    "print(\"Type of text:\", type(text))\n",
    "print(\"Convert string to int:\", int(\"123\"))\n",
    "print(\"Convert string to float:\", float(\"123.456\"))\n",
    "print(\"Convert float to int:\", int(123.456))\n",
    "\n",
    "# Your code here\n",
    "\n",
    "x = 42\n",
    "name = 'Alice'\n",
    "print (type(x))\n",
    "print (int(123))"
   ]
  },
  {
   "cell_type": "markdown",
   "id": "412914d1",
   "metadata": {},
   "source": [
    "## Variable Assignments and Statements"
   ]
  },
  {
   "cell_type": "code",
   "execution_count": 6,
   "id": "ebb5b28a",
   "metadata": {},
   "outputs": [
    {
     "name": "stdout",
     "output_type": "stream",
     "text": [
      "Value of y: 15\n"
     ]
    }
   ],
   "source": [
    "# Variable Assignments and Statements\n",
    "# Use = to assign values to variables.\n",
    "\n",
    "x = 10\n",
    "y = x + 5\n",
    "print(\"Value of y:\", y)\n"
   ]
  },
  {
   "cell_type": "markdown",
   "id": "3db46405",
   "metadata": {},
   "source": [
    "## Variable Naming Rules and Keywords"
   ]
  },
  {
   "cell_type": "code",
   "execution_count": 7,
   "id": "b07ff4b0",
   "metadata": {},
   "outputs": [
    {
     "name": "stdout",
     "output_type": "stream",
     "text": [
      "Python keywords: ['False', 'None', 'True', 'and', 'as', 'assert', 'async', 'await', 'break', 'class', 'continue', 'def', 'del', 'elif', 'else', 'except', 'finally', 'for', 'from', 'global', 'if', 'import', 'in', 'is', 'lambda', 'nonlocal', 'not', 'or', 'pass', 'raise', 'return', 'try', 'while', 'with', 'yield']\n"
     ]
    }
   ],
   "source": [
    "# Variable Naming Rules and Keywords\n",
    "# Variable names must start with a letter or underscore and cannot be Python keywords.\n",
    "\n",
    "# Valid variable names\n",
    "my_var = 1\n",
    "_var2 = 2\n",
    "\n",
    "# Invalid: 2var = 3 (starts with a number)\n",
    "# Invalid: if = 4 (if is a keyword)\n",
    "\n",
    "import keyword\n",
    "print(\"Python keywords:\", keyword.kwlist) # Print out a list of Python keywords\n",
    "\n"
   ]
  },
  {
   "cell_type": "markdown",
   "id": "04067491",
   "metadata": {},
   "source": [
    "## Math Module"
   ]
  },
  {
   "cell_type": "code",
   "execution_count": 25,
   "id": "db9aac63",
   "metadata": {},
   "outputs": [
    {
     "name": "stdout",
     "output_type": "stream",
     "text": [
      "Square root of 16: 4.0\n",
      "Value of pi: 3.141592653589793\n",
      "Cosine of 0: 1.0\n",
      "Square root of 25: 5.0\n",
      "Value of e: 2.718281828459045\n",
      "Sine of pi/2: 1.0\n"
     ]
    }
   ],
   "source": [
    "# Math Module\n",
    "# Import the math module to access mathematical functions\n",
    "\n",
    "import math\n",
    "\n",
    "print(\"Square root of 16:\", math.sqrt(16))\n",
    "print(\"Value of pi:\", math.pi)\n",
    "print(\"Cosine of 0:\", math.cos(0))\n",
    "\n",
    "# Your code here to use math functions. Do what you like!\n",
    "\n",
    "import math\n",
    "\n",
    "print(\"Square root of 25:\", math.sqrt(25))\n",
    "print(\"Value of e:\", math.e)\n",
    "print(\"Sine of pi/2:\", math.sin(math.pi / 2))\n",
    "\n"
   ]
  },
  {
   "cell_type": "markdown",
   "id": "4a980680",
   "metadata": {},
   "source": [
    "## TypeErrors"
   ]
  },
  {
   "cell_type": "code",
   "execution_count": 24,
   "id": "951b1c0b",
   "metadata": {},
   "outputs": [
    {
     "name": "stdout",
     "output_type": "stream",
     "text": [
      "TypeError: can only concatenate str (not \"int\") to str\n",
      "Fixed result: hello5\n"
     ]
    }
   ],
   "source": [
    "# TypeErrors\n",
    "# TypeErrors occur when operations are applied to incompatible types\n",
    "\n",
    "# Example:\n",
    "try:\n",
    "    result = \"hello\" + 5\n",
    "except TypeError as e:\n",
    "    print(\"TypeError:\", e)\n",
    "\n",
    "# Fix the error\n",
    "\n",
    "print(\"Fixed result:\", \"hello\" + str(5))"
   ]
  },
  {
   "cell_type": "markdown",
   "id": "b4b3f96c",
   "metadata": {},
   "source": [
    "## Comments"
   ]
  },
  {
   "cell_type": "code",
   "execution_count": null,
   "id": "74931309",
   "metadata": {},
   "outputs": [
    {
     "name": "stdout",
     "output_type": "stream",
     "text": [
      "5\n"
     ]
    }
   ],
   "source": [
    "# Comments\n",
    "# Use comments to explain code. Comments start with #\n",
    "\n",
    "# This is a comment\n",
    "x = 5  # Assign 5 to x\n",
    "print(x) # Add a comment here\n",
    "# When we define x as 5, we can use it later in the code\n"
   ]
  },
  {
   "cell_type": "markdown",
   "id": "c33bce8d",
   "metadata": {},
   "source": [
    "# Exercises\n",
    "# Try these:\n",
    "# 1. Create a variable and assign it a string.\n",
    "# 2. Use math.sqrt() to find the square root of a number.\n",
    "# 3. Write a comment explaining what your code does.\n"
   ]
  },
  {
   "cell_type": "code",
   "execution_count": 37,
   "id": "5ab5b497",
   "metadata": {},
   "outputs": [
    {
     "name": "stdout",
     "output_type": "stream",
     "text": [
      "xhello\n"
     ]
    }
   ],
   "source": [
    "variable = \"x\"\n",
    "print (\"x\" + str(\"hello\"))"
   ]
  },
  {
   "cell_type": "code",
   "execution_count": 28,
   "id": "41c09630",
   "metadata": {},
   "outputs": [
    {
     "name": "stdout",
     "output_type": "stream",
     "text": [
      "Square root of 144: 12.0\n"
     ]
    }
   ],
   "source": [
    "print (\"Square root of 144:\", math.sqrt(144))"
   ]
  },
  {
   "cell_type": "code",
   "execution_count": null,
   "id": "c8e2ed98",
   "metadata": {},
   "outputs": [],
   "source": [
    "# I used strings and math functions in this code to solve problems as the instructions said"
   ]
  },
  {
   "cell_type": "markdown",
   "id": "9f686303",
   "metadata": {},
   "source": [
    "## Functions"
   ]
  },
  {
   "cell_type": "code",
   "execution_count": 32,
   "id": "1dc8ec37",
   "metadata": {},
   "outputs": [
    {
     "name": "stdout",
     "output_type": "stream",
     "text": [
      "Hello from a function!\n",
      "Welcome, Alice\n"
     ]
    }
   ],
   "source": [
    "# Functions\n",
    "# Functions are reusable blocks of code defined using def\n",
    "\n",
    "def greet():\n",
    "    print(\"Hello from a function!\")\n",
    "\n",
    "greet()\n",
    "\n",
    "# Your code here to define and call more functions\n",
    "\n",
    "def welcome_message(name):\n",
    "    print(\"Welcome,\", name)\n",
    "\n",
    "welcome_message(\"Alice\")"
   ]
  },
  {
   "cell_type": "markdown",
   "id": "cbf6f331",
   "metadata": {},
   "source": [
    "## Parameters and Arguments"
   ]
  },
  {
   "cell_type": "code",
   "execution_count": 33,
   "id": "75930ad5",
   "metadata": {},
   "outputs": [
    {
     "name": "stdout",
     "output_type": "stream",
     "text": [
      "Hello Alice\n",
      "Sorry, Bob\n"
     ]
    }
   ],
   "source": [
    "# Parameters and Arguments\n",
    "# Functions can accept parameters\n",
    "\n",
    "def greet(name):\n",
    "    print(\"Hello\", name)\n",
    "\n",
    "greet(\"Alice\")\n",
    "\n",
    "# Your code here to define and call functions with parameters\n",
    "\n",
    "def apologize(name):\n",
    "    print(\"Sorry,\", name)\n",
    "apologize(\"Bob\")\n",
    "\n"
   ]
  },
  {
   "cell_type": "markdown",
   "id": "e67d83bb",
   "metadata": {},
   "source": [
    "## Calling Functions and Local Variables"
   ]
  },
  {
   "cell_type": "code",
   "execution_count": null,
   "id": "544b787d",
   "metadata": {},
   "outputs": [
    {
     "name": "stdout",
     "output_type": "stream",
     "text": [
      "Sum: 7\n"
     ]
    },
    {
     "ename": "NameError",
     "evalue": "name 'result' is not defined",
     "output_type": "error",
     "traceback": [
      "\u001b[31m---------------------------------------------------------------------------\u001b[39m",
      "\u001b[31mNameError\u001b[39m                                 Traceback (most recent call last)",
      "\u001b[36mCell\u001b[39m\u001b[36m \u001b[39m\u001b[32mIn[38]\u001b[39m\u001b[32m, line 10\u001b[39m\n\u001b[32m      6\u001b[39m     \u001b[38;5;28;01mreturn\u001b[39;00m result\n\u001b[32m      8\u001b[39m \u001b[38;5;28mprint\u001b[39m(\u001b[33m\"\u001b[39m\u001b[33mSum:\u001b[39m\u001b[33m\"\u001b[39m, add(\u001b[32m3\u001b[39m, \u001b[32m4\u001b[39m))\n\u001b[32m---> \u001b[39m\u001b[32m10\u001b[39m \u001b[38;5;28mprint\u001b[39m(\u001b[43mresult\u001b[49m)  \u001b[38;5;66;03m# This will raise an error because result is local to add()\u001b[39;00m\n\u001b[32m     12\u001b[39m \u001b[38;5;66;03m# Your code here to define and call more functions with local variables\u001b[39;00m\n\u001b[32m     14\u001b[39m \u001b[38;5;28;01mdef\u001b[39;00m\u001b[38;5;250m \u001b[39m\u001b[34mmultiply\u001b[39m(a, b):\n",
      "\u001b[31mNameError\u001b[39m: name 'result' is not defined"
     ]
    }
   ],
   "source": [
    "# Calling Functions and Local Variables\n",
    "# Variables inside functions are local to that function\n",
    "\n",
    "def add(a, b):\n",
    "    result = a + b\n",
    "    return result\n",
    "\n",
    "print(\"Sum:\", add(3, 4))\n",
    "\n",
    "print(result)  # This will raise an error because result is local to add()\n",
    "\n",
    "# Your code here to define and call more functions with local variables\n",
    "\n",
    "def multiply(a, b):\n",
    "    product = a * b\n",
    "    return product\n",
    "\n",
    "\n",
    "\n"
   ]
  },
  {
   "cell_type": "markdown",
   "id": "69c11b94",
   "metadata": {},
   "source": [
    "## Loops"
   ]
  },
  {
   "cell_type": "code",
   "execution_count": null,
   "id": "a62fffb4",
   "metadata": {},
   "outputs": [],
   "source": [
    "# Loops\n",
    "# Use for loops to repeat actions\n",
    "\n",
    "for i in range(5):\n",
    "    print(\"Iteration\", i)\n",
    "\n",
    "# Your code here to define and use more loops\n"
   ]
  },
  {
   "cell_type": "markdown",
   "id": "ff0a87ad",
   "metadata": {},
   "source": [
    "\n",
    "# Loop Through a List\n",
    "Loop through a list of forces and calculate stress using σ = F / A. Flag any stress that exceeds the yield limit."
   ]
  },
  {
   "cell_type": "code",
   "execution_count": null,
   "id": "afada623",
   "metadata": {},
   "outputs": [],
   "source": [
    "forces = [500, 1000, 1500, 2000]  # in Newtons\n",
    "area = 0.005  # cross-sectional area in m²\n",
    "yield_limit = 300000  # in Pascals\n",
    "\n",
    "for F in forces:\n",
    "    stress = F / area\n",
    "    status = \"OK\"\n",
    "    if stress > yield_limit:\n",
    "        status = \"Exceeds yield limit!\"\n",
    "    print(f\"Force: {F} N → Stress: {stress:.2f} Pa → {status}\")\n",
    "\n",
    "# Modify the code above to add more forces and change area and yield_limit"
   ]
  },
  {
   "cell_type": "markdown",
   "id": "91804e1e",
   "metadata": {},
   "source": [
    "# Print Text"
   ]
  },
  {
   "cell_type": "code",
   "execution_count": null,
   "id": "35dd4dc9",
   "metadata": {},
   "outputs": [],
   "source": [
    "print(text[:5]) # NameError: name 'text' is not defined. Need to define 'text' first.\n",
    "\n",
    "# Fix the error"
   ]
  },
  {
   "cell_type": "markdown",
   "id": "be099eeb",
   "metadata": {},
   "source": [
    "# Final Exercises\n",
    "# 1. Write a function that returns the square of a number.\n",
    "# 2. Use a loop to print numbers from 1 to 10.\n",
    "# 3. Use round() and abs() in a function.\n"
   ]
  },
  {
   "cell_type": "code",
   "execution_count": null,
   "id": "43c4cd1b",
   "metadata": {},
   "outputs": [],
   "source": [
    "# Code here"
   ]
  },
  {
   "cell_type": "code",
   "execution_count": null,
   "id": "06be2c70",
   "metadata": {},
   "outputs": [],
   "source": [
    "# Code here"
   ]
  },
  {
   "cell_type": "code",
   "execution_count": null,
   "id": "2d31697c",
   "metadata": {},
   "outputs": [],
   "source": [
    "# Code here"
   ]
  }
 ],
 "metadata": {
  "kernelspec": {
   "display_name": ".venv",
   "language": "python",
   "name": "python3"
  },
  "language_info": {
   "codemirror_mode": {
    "name": "ipython",
    "version": 3
   },
   "file_extension": ".py",
   "mimetype": "text/x-python",
   "name": "python",
   "nbconvert_exporter": "python",
   "pygments_lexer": "ipython3",
   "version": "3.13.7"
  }
 },
 "nbformat": 4,
 "nbformat_minor": 5
}
