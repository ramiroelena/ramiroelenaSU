{
 "cells": [
  {
   "cell_type": "markdown",
   "id": "c181a226",
   "metadata": {},
   "source": [
    "# Review of Lecture 2"
   ]
  },
  {
   "cell_type": "markdown",
   "id": "311f02ee",
   "metadata": {},
   "source": [
    "### Loops and print"
   ]
  },
  {
   "cell_type": "code",
   "execution_count": 1,
   "id": "93d630e9",
   "metadata": {},
   "outputs": [
    {
     "name": "stdout",
     "output_type": "stream",
     "text": [
      "1\n",
      "2\n",
      "3\n",
      "4\n",
      "5\n",
      "6\n",
      "7\n",
      "8\n",
      "9\n",
      "10\n"
     ]
    }
   ],
   "source": [
    "# Use a loop to print numbers from 1 to 10.\n",
    "# Your code here \n",
    "for i in range(1, 11):\n",
    "    print(i)"
   ]
  },
  {
   "cell_type": "markdown",
   "id": "cf720a78",
   "metadata": {},
   "source": [
    "### Import math module and use math functions"
   ]
  },
  {
   "cell_type": "code",
   "execution_count": 6,
   "id": "54155502",
   "metadata": {},
   "outputs": [
    {
     "name": "stdout",
     "output_type": "stream",
     "text": [
      "25.0\n"
     ]
    }
   ],
   "source": [
    "# Write a function that prints the square of a number\n",
    "\n",
    "import math # You need this first to import the math module\n",
    "def print_square(x): # x is a parameter.\n",
    "    # Your code here- Need to use the math module\n",
    "    print(math.pow(x, 2)) # math.pow returns a float\n",
    "\n",
    "print_square(5) # Pay attention to the result of your function call. Is it an integer or a float?\n"
   ]
  },
  {
   "cell_type": "markdown",
   "id": "ad0199b3",
   "metadata": {},
   "source": [
    "\n",
    "### Loop Through a List and print( ) in Python\n",
    "Loop through a list of forces and calculate stress using σ = F / A. Flag any stress that exceeds the yield limit."
   ]
  },
  {
   "cell_type": "code",
   "execution_count": null,
   "id": "76f83368",
   "metadata": {},
   "outputs": [],
   "source": [
    "forces = [500, 1000, 1500, 2000, 2500, 3000]  # in Newtons - modify as needed\n",
    "area = 0.005  # cross-sectional area in m² - modify as needed\n",
    "yield_limit = 550000  # in Pascals - modify as needed\n",
    "\n",
    "for F in forces:\n",
    "    stress = F / area\n",
    "    status = \"OK\"\n",
    "    if stress > yield_limit:\n",
    "        status = \"Exceeds yield limit!\"\n",
    "    print(f\"Force: {F} N → Stress: {stress:.2f} Pa → {status}\")\n"
   ]
  },
  {
   "cell_type": "markdown",
   "id": "81dafced",
   "metadata": {},
   "source": [
    "# Overview of Conditionals and Recursion- Lecture 3"
   ]
  },
  {
   "cell_type": "markdown",
   "id": "311bc235",
   "metadata": {},
   "source": [
    "## Boolean"
   ]
  },
  {
   "cell_type": "markdown",
   "id": "1fb26646",
   "metadata": {},
   "source": [
    "### Boolean Values\n",
    "Booleans represent truth values: `True` and `False`.\n"
   ]
  },
  {
   "cell_type": "code",
   "execution_count": 7,
   "id": "fc8197b1",
   "metadata": {},
   "outputs": [
    {
     "data": {
      "text/plain": [
       "False"
      ]
     },
     "execution_count": 7,
     "metadata": {},
     "output_type": "execute_result"
    }
   ],
   "source": [
    "x = 5\n",
    "y = 7\n",
    "x == y  "
   ]
  },
  {
   "cell_type": "markdown",
   "id": "d174f3f0",
   "metadata": {},
   "source": [
    "## Relational Operators"
   ]
  },
  {
   "cell_type": "markdown",
   "id": "0372da7c",
   "metadata": {},
   "source": [
    "### Relational Operators\n",
    "Used to compare values: `==`, `!=`, `<`, `>`, `<=`, `>=`\n"
   ]
  },
  {
   "cell_type": "code",
   "execution_count": 8,
   "id": "40b87a16",
   "metadata": {},
   "outputs": [
    {
     "name": "stdout",
     "output_type": "stream",
     "text": [
      "False\n",
      "True\n",
      "False\n",
      "True\n"
     ]
    }
   ],
   "source": [
    "x = 10\n",
    "y = 20\n",
    "print(x == y) #False\n",
    "print(x < y) #True\n",
    "print(x >= y) #False\n",
    "print(x != y) #True\n",
    "# Adding comment on each line for what you think the output is before running the code"
   ]
  },
  {
   "cell_type": "markdown",
   "id": "f80b11d3",
   "metadata": {},
   "source": [
    "## Logical Operators"
   ]
  },
  {
   "cell_type": "markdown",
   "id": "05f9f5b0",
   "metadata": {},
   "source": [
    "### Logical Operators\n",
    "`and`, `or`, `not` combine boolean expressions.\n"
   ]
  },
  {
   "cell_type": "code",
   "execution_count": 10,
   "id": "0e6878b5",
   "metadata": {},
   "outputs": [
    {
     "name": "stdout",
     "output_type": "stream",
     "text": [
      "True\n",
      "True\n",
      "False\n",
      "True\n",
      "False\n",
      "True\n"
     ]
    }
   ],
   "source": [
    "x = 5\n",
    "print(x > 0 and x < 10)\n",
    "print(x < 0 or x > 3)\n",
    "print(not(x == 5))\n",
    "\n",
    "# add a few more examples of logical operators on your own\n",
    "print(x >= 5 and x <= 10) \n",
    "print(x != 5 or x < 3)\n",
    "print( x < 100 and x > 1)"
   ]
  },
  {
   "cell_type": "markdown",
   "id": "62fa97d3",
   "metadata": {},
   "source": [
    "## if Statement"
   ]
  },
  {
   "cell_type": "markdown",
   "id": "c481066c",
   "metadata": {},
   "source": [
    "### if Statement\n",
    "Executes a block of code if the condition is true.\n"
   ]
  },
  {
   "cell_type": "code",
   "execution_count": 21,
   "id": "8b50c0f5",
   "metadata": {},
   "outputs": [
    {
     "name": "stdout",
     "output_type": "stream",
     "text": [
      "x is greater than 5\n"
     ]
    }
   ],
   "source": [
    "x = 7\n",
    "if x > 5:\n",
    "    print(\"x is greater than 5\")"
   ]
  },
  {
   "cell_type": "code",
   "execution_count": 24,
   "id": "4e1c03fa",
   "metadata": {},
   "outputs": [
    {
     "name": "stdout",
     "output_type": "stream",
     "text": [
      "x is less than 3\n"
     ]
    }
   ],
   "source": [
    "# Your code here- write a conditional statement that checks if x is less than 3,\n",
    "# and prints an appropriate message\n",
    "x = 3\n",
    "if x < 4:\n",
    "    print(\"x is less than 3\")\n"
   ]
  },
  {
   "cell_type": "markdown",
   "id": "44262caa",
   "metadata": {},
   "source": [
    "## else Statement"
   ]
  },
  {
   "cell_type": "markdown",
   "id": "1c7e31b6",
   "metadata": {},
   "source": [
    "### else Statement\n",
    "Provides an alternative block if the condition is false.\n"
   ]
  },
  {
   "cell_type": "code",
   "execution_count": 25,
   "id": "6ba615ad",
   "metadata": {},
   "outputs": [
    {
     "name": "stdout",
     "output_type": "stream",
     "text": [
      "x is not greater than 5\n"
     ]
    }
   ],
   "source": [
    "x = 3\n",
    "if x > 5:\n",
    "    print(\"x is greater than 5\")\n",
    "else:\n",
    "    print(\"x is not greater than 5\")"
   ]
  },
  {
   "cell_type": "code",
   "execution_count": 26,
   "id": "b18eb337",
   "metadata": {},
   "outputs": [
    {
     "name": "stdout",
     "output_type": "stream",
     "text": [
      "x is greater than 4\n"
     ]
    }
   ],
   "source": [
    "# Yor code here- write a conditional statement that checks if x is less than 5,\n",
    "# and prints an appropriate message\n",
    "x = 11\n",
    "if x > 4:\n",
    "    print(\"x is greater than 4\")\n",
    "else:\n",
    "    print(\"x is not greater than 4\")\n",
    "    "
   ]
  },
  {
   "cell_type": "markdown",
   "id": "3c39ec32",
   "metadata": {},
   "source": [
    "## elif Statement"
   ]
  },
  {
   "cell_type": "markdown",
   "id": "a64555ec",
   "metadata": {},
   "source": [
    "### elif Statement\n",
    "Checks multiple conditions in sequence.\n"
   ]
  },
  {
   "cell_type": "code",
   "execution_count": 27,
   "id": "086de423",
   "metadata": {},
   "outputs": [
    {
     "name": "stdout",
     "output_type": "stream",
     "text": [
      "x is equal to 5\n"
     ]
    }
   ],
   "source": [
    "x = 5\n",
    "if x > 5:\n",
    "    print(\"x is greater than 5\")\n",
    "elif x == 5:\n",
    "    print(\"x is equal to 5\")\n",
    "else:\n",
    "    print(\"x is less than 5\")"
   ]
  },
  {
   "cell_type": "code",
   "execution_count": null,
   "id": "e15fa9eb",
   "metadata": {},
   "outputs": [],
   "source": [
    "# Your code here- write a conditional statement that checks if x is less than 3,\n",
    "# between 3 and 10, or greater than 10, and prints an appropriate message"
   ]
  },
  {
   "cell_type": "markdown",
   "id": "a1babeea",
   "metadata": {},
   "source": [
    "## Nested Condition"
   ]
  },
  {
   "cell_type": "markdown",
   "id": "8872c898",
   "metadata": {},
   "source": [
    "### Nested Condition\n",
    "Conditions inside other conditions.\n"
   ]
  },
  {
   "cell_type": "code",
   "execution_count": 12,
   "id": "aff0a886",
   "metadata": {},
   "outputs": [
    {
     "name": "stdout",
     "output_type": "stream",
     "text": [
      "x is between 5 and 15\n"
     ]
    }
   ],
   "source": [
    "x = 10\n",
    "if x > 5:\n",
    "    if x < 15:\n",
    "        print(\"x is between 5 and 15\")"
   ]
  },
  {
   "cell_type": "code",
   "execution_count": null,
   "id": "c9e2e3ee",
   "metadata": {},
   "outputs": [
    {
     "ename": "_IncompleteInputError",
     "evalue": "incomplete input (2401139979.py, line 7)",
     "output_type": "error",
     "traceback": [
      "  \u001b[36mCell\u001b[39m\u001b[36m \u001b[39m\u001b[32mIn[20]\u001b[39m\u001b[32m, line 7\u001b[39m\n\u001b[31m    \u001b[39m\n    ^\n\u001b[31m_IncompleteInputError\u001b[39m\u001b[31m:\u001b[39m incomplete input\n"
     ]
    }
   ],
   "source": [
    "# Write a conditional statement that checks if x is \n",
    "# between 3 and 10, and prints an appropriate message.\n",
    "# You must use nested conditonal statements\n",
    "x = 11\n",
    "if x > 3:\n",
    "    # Your code here- use nested conditional statements\n"
   ]
  },
  {
   "cell_type": "markdown",
   "id": "3906589c",
   "metadata": {},
   "source": [
    "## Recursion"
   ]
  },
  {
   "cell_type": "markdown",
   "id": "b2e55c5a",
   "metadata": {},
   "source": [
    "### Recursion Example: Countdown\n",
    "A function calling itself to count down.\n"
   ]
  },
  {
   "cell_type": "code",
   "execution_count": 11,
   "id": "60af33c6",
   "metadata": {},
   "outputs": [
    {
     "name": "stdout",
     "output_type": "stream",
     "text": [
      "10\n",
      "9\n",
      "8\n",
      "7\n",
      "6\n",
      "5\n",
      "4\n",
      "3\n",
      "2\n",
      "1\n",
      "Blastoff!\n"
     ]
    }
   ],
   "source": [
    "def countdown(n):\n",
    "    if n <= 0:\n",
    "        print(\"Blastoff!\")\n",
    "    else:\n",
    "        print(n)\n",
    "        countdown(n - 1)\n",
    "\n",
    "countdown(10) # Change the number to see how it works"
   ]
  },
  {
   "cell_type": "code",
   "execution_count": 1,
   "id": "aa374f7d",
   "metadata": {},
   "outputs": [
    {
     "name": "stdout",
     "output_type": "stream",
     "text": [
      "3\n",
      "2\n",
      "1\n",
      "To infinity and beyond!\n"
     ]
    }
   ],
   "source": [
    "# Your code here to print out \n",
    "def countdown(n):\n",
    "    if n <= 0:\n",
    "        print (\"To infinity and beyond!\")\n",
    "    else: \n",
    "        print(n)\n",
    "        countdown(n - 1)\n",
    "\n",
    "countdown(3)"
   ]
  },
  {
   "cell_type": "markdown",
   "id": "6268224f",
   "metadata": {},
   "source": [
    "## Review of Conditionals and Recursion\n",
    "Conditionals allow branching logic using `if`, `elif`, and `else`. Recursion is when a function calls itself.\n"
   ]
  },
  {
   "cell_type": "code",
   "execution_count": 18,
   "id": "8b6b1d41",
   "metadata": {},
   "outputs": [
    {
     "data": {
      "text/plain": [
       "75600"
      ]
     },
     "execution_count": 18,
     "metadata": {},
     "output_type": "execute_result"
    }
   ],
   "source": [
    "# This example compute factorial using a loop. \n",
    "def factorial_iterative(n):\n",
    "    result = 5\n",
    "    for i in range(5, n + 5):\n",
    "        result *= i\n",
    "    return result\n",
    "\n",
    "factorial_iterative(5) # Change the argument to compute factorial of different numbers."
   ]
  },
  {
   "cell_type": "code",
   "execution_count": 17,
   "id": "f281abf7",
   "metadata": {},
   "outputs": [
    {
     "data": {
      "text/plain": [
       "25"
      ]
     },
     "execution_count": 17,
     "metadata": {},
     "output_type": "execute_result"
    }
   ],
   "source": [
    "# The example of a recursive function to compute factorial.\n",
    "\n",
    "def factorial_recursive(n):\n",
    "    if n == 0:\n",
    "        return 5\n",
    "    else:\n",
    "        return n * factorial_recursive(n - 5) # Recursive call\n",
    "\n",
    "factorial_recursive(5) # Change the argument to compute factorial of different numbers."
   ]
  },
  {
   "cell_type": "markdown",
   "id": "8a1a8d33",
   "metadata": {},
   "source": [
    "## Infinite Recursion"
   ]
  },
  {
   "cell_type": "markdown",
   "id": "079f9d61",
   "metadata": {},
   "source": [
    "### Infinite Recursion Error\n",
    "Occurs when recursion has no base case.\n"
   ]
  },
  {
   "cell_type": "code",
   "execution_count": 16,
   "id": "41f7cf26",
   "metadata": {},
   "outputs": [
    {
     "ename": "RecursionError",
     "evalue": "maximum recursion depth exceeded",
     "output_type": "error",
     "traceback": [
      "\u001b[31m---------------------------------------------------------------------------\u001b[39m",
      "\u001b[31mRecursionError\u001b[39m                            Traceback (most recent call last)",
      "\u001b[36mCell\u001b[39m\u001b[36m \u001b[39m\u001b[32mIn[16]\u001b[39m\u001b[32m, line 4\u001b[39m\n\u001b[32m      2\u001b[39m \u001b[38;5;28;01mdef\u001b[39;00m\u001b[38;5;250m \u001b[39m\u001b[34mrecurse\u001b[39m():\n\u001b[32m      3\u001b[39m     \u001b[38;5;28;01mreturn\u001b[39;00m recurse()\n\u001b[32m----> \u001b[39m\u001b[32m4\u001b[39m \u001b[43mrecurse\u001b[49m\u001b[43m(\u001b[49m\u001b[43m)\u001b[49m\n",
      "\u001b[36mCell\u001b[39m\u001b[36m \u001b[39m\u001b[32mIn[16]\u001b[39m\u001b[32m, line 3\u001b[39m, in \u001b[36mrecurse\u001b[39m\u001b[34m()\u001b[39m\n\u001b[32m      2\u001b[39m \u001b[38;5;28;01mdef\u001b[39;00m\u001b[38;5;250m \u001b[39m\u001b[34mrecurse\u001b[39m():\n\u001b[32m----> \u001b[39m\u001b[32m3\u001b[39m     \u001b[38;5;28;01mreturn\u001b[39;00m \u001b[43mrecurse\u001b[49m\u001b[43m(\u001b[49m\u001b[43m)\u001b[49m\n",
      "\u001b[36mCell\u001b[39m\u001b[36m \u001b[39m\u001b[32mIn[16]\u001b[39m\u001b[32m, line 3\u001b[39m, in \u001b[36mrecurse\u001b[39m\u001b[34m()\u001b[39m\n\u001b[32m      2\u001b[39m \u001b[38;5;28;01mdef\u001b[39;00m\u001b[38;5;250m \u001b[39m\u001b[34mrecurse\u001b[39m():\n\u001b[32m----> \u001b[39m\u001b[32m3\u001b[39m     \u001b[38;5;28;01mreturn\u001b[39;00m \u001b[43mrecurse\u001b[49m\u001b[43m(\u001b[49m\u001b[43m)\u001b[49m\n",
      "    \u001b[31m[... skipping similar frames: recurse at line 3 (2974 times)]\u001b[39m\n",
      "\u001b[36mCell\u001b[39m\u001b[36m \u001b[39m\u001b[32mIn[16]\u001b[39m\u001b[32m, line 3\u001b[39m, in \u001b[36mrecurse\u001b[39m\u001b[34m()\u001b[39m\n\u001b[32m      2\u001b[39m \u001b[38;5;28;01mdef\u001b[39;00m\u001b[38;5;250m \u001b[39m\u001b[34mrecurse\u001b[39m():\n\u001b[32m----> \u001b[39m\u001b[32m3\u001b[39m     \u001b[38;5;28;01mreturn\u001b[39;00m \u001b[43mrecurse\u001b[49m\u001b[43m(\u001b[49m\u001b[43m)\u001b[49m\n",
      "\u001b[31mRecursionError\u001b[39m: maximum recursion depth exceeded"
     ]
    }
   ],
   "source": [
    "# Uncomment to see the error\n",
    "def recurse():\n",
    "    return recurse()\n",
    "recurse()"
   ]
  },
  {
   "cell_type": "markdown",
   "id": "b218431d",
   "metadata": {},
   "source": [
    "## Keyboard Input"
   ]
  },
  {
   "cell_type": "markdown",
   "id": "1e2899cd",
   "metadata": {},
   "source": [
    "### Keyboard Input\n",
    "Use `input()` to get user input.\n"
   ]
  },
  {
   "cell_type": "code",
   "execution_count": 14,
   "id": "a49c6057",
   "metadata": {},
   "outputs": [
    {
     "name": "stdout",
     "output_type": "stream",
     "text": [
      "Hello, Ramiro\n"
     ]
    }
   ],
   "source": [
    "# Uncomment to run interactively\n",
    "name = input(\"Enter your name: \")\n",
    "print(\"Hello,\", name)"
   ]
  },
  {
   "cell_type": "code",
   "execution_count": 15,
   "id": "1335a581",
   "metadata": {},
   "outputs": [
    {
     "data": {
      "text/plain": [
       "'Ramiro'"
      ]
     },
     "execution_count": 15,
     "metadata": {},
     "output_type": "execute_result"
    }
   ],
   "source": [
    "# Uncomment to see what happens. What's the difference from above? \n",
    "# How would you fix the code to get the same output as above?\n",
    "name = input('What...is your name?\\n')\n",
    "name\n"
   ]
  }
 ],
 "metadata": {
  "kernelspec": {
   "display_name": "Python 3",
   "language": "python",
   "name": "python3"
  },
  "language_info": {
   "codemirror_mode": {
    "name": "ipython",
    "version": 3
   },
   "file_extension": ".py",
   "mimetype": "text/x-python",
   "name": "python",
   "nbconvert_exporter": "python",
   "pygments_lexer": "ipython3",
   "version": "3.13.7"
  }
 },
 "nbformat": 4,
 "nbformat_minor": 5
}
