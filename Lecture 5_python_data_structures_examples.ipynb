{
 "cells": [
  {
   "cell_type": "markdown",
   "id": "7917e236",
   "metadata": {},
   "source": [
    "## Strings (`str`)\n",
    "Strings are immutable sequences of characters. They support indexing and slicing."
   ]
  },
  {
   "cell_type": "code",
   "execution_count": 4,
   "id": "224aed5b",
   "metadata": {},
   "outputs": [
    {
     "name": "stdout",
     "output_type": "stream",
     "text": [
      "<class 'str'>\n",
      "11\n",
      "First character: e\n",
      "Slice: ngin\n"
     ]
    }
   ],
   "source": [
    "# Note that I intentionally did not include any comments. You should add comments to explain the code.\n",
    "# Your assignment includes adding comments to all code cells.\n",
    "text = \"Engineering\"\n",
    "print(type(text))\n",
    "print(len(text))\n",
    "print(\"First character:\", text[5]) # Each character is indexed, starting from 0.\n",
    "print(\"Slice:\", text[1:5])\n",
    "\n",
    "# Your code here to print out diffent characters and slices of the string."
   ]
  },
  {
   "cell_type": "markdown",
   "id": "90aa7988",
   "metadata": {},
   "source": [
    "## Lists (`list`) [ ]\n",
    "Lists are ordered and mutable collections. They can contain mixed types and be nested."
   ]
  },
  {
   "cell_type": "code",
   "execution_count": 13,
   "id": "a18b93ef",
   "metadata": {},
   "outputs": [
    {
     "name": "stdout",
     "output_type": "stream",
     "text": [
      "<class 'list'>\n",
      "Second element: temp\n",
      "Nested list: [6.7, 6.9]\n",
      "Second element in the nested list: 6.9\n"
     ]
    }
   ],
   "source": [
    "data = [1, \"temp\", [6.7, 6.9]] # You should change the nested array to 5 elements.\n",
    "print(type(data))\n",
    "print(\"Second element:\", data[1])\n",
    "print(\"Nested list:\", data[2]) # Do you need to change anything on this line? Why or why not?\n",
    "print(\"Second element in the nested list:\", data[2][1]) # What do you expect to see?"
   ]
  },
  {
   "cell_type": "markdown",
   "id": "62adc319",
   "metadata": {},
   "source": [
    "## Tuples (`tuple`) ( )\n",
    "Tuples are ordered and immutable collections."
   ]
  },
  {
   "cell_type": "code",
   "execution_count": 17,
   "id": "b030da99",
   "metadata": {},
   "outputs": [
    {
     "name": "stdout",
     "output_type": "stream",
     "text": [
      "<class 'tuple'>\n",
      "X coordinate: 3\n",
      "Y coordinate: 6\n"
     ]
    }
   ],
   "source": [
    "point = (3, 4, 5, 6, 7, 8)\n",
    "print(type(point))\n",
    "print(\"X coordinate:\", point[0])\n",
    "# Your code here to print out different elements of the tuple.i.e, the Y or Z element.\n",
    "print(\"Y coordinate:\", point[3])"
   ]
  },
  {
   "cell_type": "markdown",
   "id": "b12af27b",
   "metadata": {},
   "source": [
    "## Sets (`set`) { }\n",
    "Sets are unordered collections of unique elements."
   ]
  },
  {
   "cell_type": "code",
   "execution_count": 19,
   "id": "8f2119e7",
   "metadata": {},
   "outputs": [
    {
     "name": "stdout",
     "output_type": "stream",
     "text": [
      "Set contents: {'weight', 'temp', 'length', 'pressure'}\n",
      "Is 'temp' in sensors? True\n",
      "Is 'pressure' in sensors? True\n"
     ]
    }
   ],
   "source": [
    "sensors = {\"temp\", \"pressure\", \"temp\", \"length\", \"weight\"} # Add more elements to the set.\n",
    "print(\"Set contents:\", sensors)\n",
    "print(\"Is 'temp' in sensors?\", \"temp\" in sensors)\n",
    "# Note that sets are unordered. You cannot access elements by index.\n",
    "# Your code here to add more elements and check membership of other elements.\n",
    "print(\"Is 'pressure' in sensors?\", \"pressure\" in sensors)"
   ]
  },
  {
   "cell_type": "markdown",
   "id": "9321024e",
   "metadata": {},
   "source": [
    "## Dictionaries (`dict`) { \"key1\":, \"key2\": .....}\n",
    "Dictionaries store key-value pairs and allow fast lookup using keys."
   ]
  },
  {
   "cell_type": "code",
   "execution_count": 21,
   "id": "db99a421",
   "metadata": {},
   "outputs": [
    {
     "name": "stdout",
     "output_type": "stream",
     "text": [
      "Temperature: 22.5\n",
      "Pressure: 101.3\n"
     ]
    }
   ],
   "source": [
    "sensor_data = {\"temp\": 22.5, \"pressure\": 101.3} # Add more key-value pairs to the dictionary.\n",
    "print(\"Temperature:\", sensor_data[\"temp\"])\n",
    "# Your code here to print out different values using their keys and add new key-value pairs.\n",
    "print(\"Pressure:\", sensor_data[\"pressure\"])"
   ]
  },
  {
   "cell_type": "markdown",
   "id": "24d88685",
   "metadata": {},
   "source": [
    "### Example- 🛒 Grocery Bill Calculator\n",
    "\n",
    "Loop through a list of grocery items and their prices shown in the code. Calculate the total bill. Apply a 5% discount if the total exceeds $50. Print out the total bill and an indication on whether a discount is applied. \n",
    "\n",
    "Hint: You will need a for loop through this list and then a conditional statement to determine if a discount can be applied. "
   ]
  },
  {
   "cell_type": "code",
   "execution_count": 27,
   "id": "a11c0e21",
   "metadata": {},
   "outputs": [
    {
     "name": "stdout",
     "output_type": "stream",
     "text": [
      "Milk costs $4.50\n",
      "Bread costs $3.20\n",
      "Eggs costs $6.00\n",
      "Cheese costs $8.50\n",
      "Fruits costs $12.00\n",
      "Vegetables costs $10.00\n",
      "Snacks costs $9.00\n",
      "Beverages costs $7.50\n",
      "Discount applied: $3.04\n",
      "Total grocery bill is $57.67 for 8 items.\n"
     ]
    }
   ],
   "source": [
    "items = {'Milk': 4.5, 'Bread': 3.2, 'Eggs': 6.0, 'Cheese': 8.5, 'Fruits': 12.0, 'Vegetables': 10.0, 'Snacks': 9.0, 'Beverages': 7.5,}\n",
    "# You can add/delete items if you want\n",
    "\n",
    "# Initialize accumulators for total price and item count\n",
    "total = 0.0\n",
    "total_item = 0\n",
    "\n",
    "# Iterate through items, sum prices and count items; print each item's price\n",
    "for name, price in items.items():\n",
    "    total += price\n",
    "    total_item += 1\n",
    "    print(f\"{name} costs ${price:.2f}\")\n",
    "\n",
    "# Calculate discount (5% if total exceeds $50)\n",
    "discount = 0.0  # default: no discount\n",
    "if total > 50.0:\n",
    "    discount = total * 0.05  # 5% discount\n",
    "\n",
    "# Print discount and final total after applying discount\n",
    "print(f\"Discount applied: ${discount:.2f}\")\n",
    "\n",
    "total_after_discount = total - discount\n",
    "print(f\"Total grocery bill is ${total_after_discount:.2f} for {total_item} items.\")\n"
   ]
  },
  {
   "cell_type": "markdown",
   "id": "bf3bd7a9",
   "metadata": {},
   "source": [
    "## NumPy Arrays (`np.array( )`)\n",
    "NumPy arrays are efficient for numerical data and support vectorized operations. Here is a simple example. We will dicsuss how to use NumPy Arrays more in future lectures. "
   ]
  },
  {
   "cell_type": "code",
   "execution_count": 30,
   "id": "90bb6f13",
   "metadata": {},
   "outputs": [
    {
     "name": "stdout",
     "output_type": "stream",
     "text": [
      "Second element of arr1 multiplied by 2: 4\n",
      "Array 2:\n",
      "[[4 5]\n",
      " [7 8]]\n"
     ]
    }
   ],
   "source": [
    "import numpy as np\n",
    "\n",
    "# Create a 1D numpy array\n",
    "arr1 = np.array([1, 2, 3])\n",
    "\n",
    "# Create a 2D numpy array\n",
    "arr2 = np.array([[4, 5],\n",
    "                 [7, 8]])\n",
    "\n",
    "# Print the second element of arr1 multiplied by 2\n",
    "print(\"Second element of arr1 multiplied by 2:\", arr1[1] * 2)\n",
    "\n",
    "# Print the 2D array\n",
    "print(\"Array 2:\")\n",
    "print(arr2)"
   ]
  },
  {
   "cell_type": "code",
   "execution_count": 2,
   "id": "def1de85",
   "metadata": {},
   "outputs": [
    {
     "name": "stdout",
     "output_type": "stream",
     "text": [
      "Original 5x3 array (arr3):\n",
      "[[ 1  2  3]\n",
      " [ 4  5  6]\n",
      " [ 7  8  9]\n",
      " [10 11 12]\n",
      " [13 14 15]]\n",
      "Entire array multiplied by 2:\n",
      "[[ 2  4  6]\n",
      " [ 8 10 12]\n",
      " [14 16 18]\n",
      " [20 22 24]\n",
      " [26 28 30]]\n"
     ]
    }
   ],
   "source": [
    "# Create and display a 5x3 NumPy array and the array multiplied by 2.\n",
    "# Import numpy here in case this cell is run before the cell that imports it.\n",
    "import numpy as np\n",
    "\n",
    "# Create a 1D list of 15 elements and reshape into a 5x3 array\n",
    "arr3 = np.array([1, 2, 3, 4, 5,\n",
    "                 6, 7, 8, 9, 10,\n",
    "                 11, 12, 13, 14, 15]).reshape((5, 3))\n",
    "\n",
    "# Print the original 5x3 array\n",
    "print(\"Original 5x3 array (arr3):\")\n",
    "print(arr3)\n",
    "\n",
    "# Print the entire array multiplied by 2\n",
    "print(\"Entire array multiplied by 2:\")\n",
    "print(arr3 * 2)\n"
   ]
  },
  {
   "cell_type": "markdown",
   "id": "d82a0004",
   "metadata": {},
   "source": [
    "## Sorting\n",
    "Python lists can be sorted using the built-in `sorted()` function or the `.sort()` method."
   ]
  },
  {
   "cell_type": "code",
   "execution_count": 1,
   "id": "d98b3ef2",
   "metadata": {},
   "outputs": [
    {
     "name": "stdout",
     "output_type": "stream",
     "text": [
      "Original: [5, 2, 9, 1, 5, 6]\n",
      "Sorted:   [1, 2, 5, 5, 6, 9]\n"
     ]
    }
   ],
   "source": [
    "numbers = [5, 2, 9, 1, 5, 6]\n",
    "print(\"Original:\", numbers)\n",
    "\n",
    "numbers.sort()\n",
    "# sorted_numbers = sorted(numbers) # uncomment this line if you want to use sorted() instead of sort()\n",
    "\n",
    "print(\"Sorted:  \", numbers)\n",
    "# print(\"Sorted:  \", sorted_numbers) # when you uncomment sorted_numbers"
   ]
  },
  {
   "cell_type": "code",
   "execution_count": 2,
   "id": "f2a94933",
   "metadata": {},
   "outputs": [
    {
     "name": "stdout",
     "output_type": "stream",
     "text": [
      "Original: [67, 69, 420, 21, 5]\n",
      "Sorted:   [5, 21, 67, 69, 420]\n"
     ]
    }
   ],
   "source": [
    "# Your code here\n",
    "# Make up a list (any type you want) and sort them. Print out the original and sorted lists.\n",
    "# You can only use .sort() method.\n",
    "\n",
    "numbers = [67, 69, 420, 21, 5]\n",
    "print(\"Original:\", numbers)\n",
    "\n",
    "numbers.sort()\n",
    "\n",
    "print(\"Sorted:  \", numbers)"
   ]
  },
  {
   "cell_type": "markdown",
   "id": "9042bc08",
   "metadata": {},
   "source": [
    "### Sort a list of tuples usign a *lambda* function\n",
    "A `lambda` function in Python is an anonymous, single-expression function. It is defined using the `lambda` keyword and allows for the creation of small, inline functions without needing to use the def keyword or assign a name. `lambda` functions are particularly useful in situations where a small, one-off function is needed as an argument to a higher-order function (a function that takes other functions as arguments). We will discuss more in future lectures. "
   ]
  },
  {
   "cell_type": "code",
   "execution_count": 3,
   "id": "7add8fa6",
   "metadata": {},
   "outputs": [
    {
     "name": "stdout",
     "output_type": "stream",
     "text": [
      "Sorted by first element: [(1, 'apple'), (2, 'orange'), (3, 'banana')]\n"
     ]
    }
   ],
   "source": [
    "my_list = [(1, 'apple'), (2, 'orange'), (3, 'banana')] # List of tuples\n",
    "my_list.sort(key= lambda item: item[0]) # Sorts by the first element of each tuple\n",
    "print(\"Sorted by first element:\", my_list)\n",
    "# You should change the list an print out the sorted list based on different elements."
   ]
  },
  {
   "cell_type": "code",
   "execution_count": 4,
   "id": "19fbc3ab",
   "metadata": {},
   "outputs": [
    {
     "name": "stdout",
     "output_type": "stream",
     "text": [
      "Sorted by first element: [(1, 'book'), (2, 'pencil'), (3, 'eraser'), (4, 'ruler')]\n"
     ]
    }
   ],
   "source": [
    "# Your code here.  \n",
    "# Make up a list of tuples (anything you want) and sort them. \n",
    "# Print out the original and sorted lists.\n",
    "my_list = [(1, 'book'), (2, 'pencil'), (3, 'eraser'), (4, 'ruler')]\n",
    "my_list.sort(key= lambda item: item[0])\n",
    "print(\"Sorted by first element:\", my_list)"
   ]
  },
  {
   "cell_type": "markdown",
   "id": "9eefd6b2",
   "metadata": {},
   "source": [
    "### Sorting Dictionaries by Values\n",
    "Need to use `sorted()` with a `lambda` function to sort *dictionary* items by value. Cannot use `.sort`"
   ]
  },
  {
   "cell_type": "code",
   "execution_count": 5,
   "id": "1f561869",
   "metadata": {},
   "outputs": [
    {
     "name": "stdout",
     "output_type": "stream",
     "text": [
      "Sorted by value: [('Charlie', 78), ('Alice', 88), ('Bob', 95)]\n"
     ]
    }
   ],
   "source": [
    "grades = {'Alice': 88, 'Bob': 95, 'Charlie': 78} # dictionary items\n",
    "sorted_grades = sorted(grades.items(), key=lambda x: x[1])\n",
    "print(\"Sorted by value:\", sorted_grades)"
   ]
  },
  {
   "cell_type": "code",
   "execution_count": 6,
   "id": "403c40a4",
   "metadata": {},
   "outputs": [
    {
     "name": "stdout",
     "output_type": "stream",
     "text": [
      "Sorted by value: [('Angel', 45), ('Fred', 135), ('Henry', 185), ('Ramiro', 225)]\n"
     ]
    }
   ],
   "source": [
    "# Your code here\n",
    "# Make up an array of dictionary items (any type you want) and sort them.\n",
    "# Print out the original and sorted lists.\n",
    "bench_pr = {'Henry': 185, 'Fred': 135, 'Ramiro': 225, 'Angel': 45}\n",
    "sorted_bench_pr = sorted(bench_pr.items(), key=lambda x: x[1])\n",
    "print(\"Sorted by value:\", sorted_bench_pr)"
   ]
  },
  {
   "cell_type": "markdown",
   "id": "5b7acb47",
   "metadata": {},
   "source": [
    "## TXT Files\n"
   ]
  },
  {
   "cell_type": "markdown",
   "id": "94230905",
   "metadata": {},
   "source": [
    "### Write a TXT file\n",
    "\n",
    "The code below creates a text file called *test.txt* and write a couple lines in it. \n",
    "Check and see where this file is located on your desk!"
   ]
  },
  {
   "cell_type": "code",
   "execution_count": 7,
   "id": "95ff4b69",
   "metadata": {},
   "outputs": [],
   "source": [
    "f = open('test.txt', 'w') # opened a file object *f* with the file name 'test.txt'; \"w+\" for the mode indicates write\n",
    "for i in range(5):\n",
    "    f.write(f\"This is line {i+1}\\n\") #write 5 lines. Note the newline '\\n' at the end of the string.\n",
    "    \n",
    "f.close() # It is good practice to close the file using f.close() in the end.\n",
    "\n",
    "# Check your local folder and see whether the file 'test.txt' is created and contains the 5 lines."
   ]
  },
  {
   "cell_type": "markdown",
   "id": "19e1350a",
   "metadata": {},
   "source": [
    "## Append to a TXT file\n",
    "We can also append some string to the *test.txt* file. It is very similar to how we write the file, with only one difference - change the mode to 'a' instead. "
   ]
  },
  {
   "cell_type": "code",
   "execution_count": 8,
   "id": "672662ba",
   "metadata": {},
   "outputs": [],
   "source": [
    "f = open('test.txt', 'a')\n",
    "f.write(f\"This is another line\\n\") #append a line\n",
    "# Try to add more lines \n",
    "f.close()\n",
    "# Check your local folder and see whether the file 'test.txt' is updated with the new line.\n",
    "# Append more lines as needed."
   ]
  },
  {
   "cell_type": "markdown",
   "id": "7cb922ee",
   "metadata": {},
   "source": [
    "## Reading a TXT File\n",
    "Let's read in the *test.txt* file we created above and store all the contents in the file to a variable *content*."
   ]
  },
  {
   "cell_type": "code",
   "execution_count": null,
   "id": "b2e92949",
   "metadata": {},
   "outputs": [
    {
     "name": "stdout",
     "output_type": "stream",
     "text": [
      "This is line 1\n",
      "This is line 2\n",
      "This is line 3\n",
      "This is line 4\n",
      "This is line 5\n",
      "This is another line\n",
      "\n"
     ]
    }
   ],
   "source": [
    "# Add comments to explain the code.\n",
    "f = open('./test.txt', 'r') #Opening the file we created\n",
    "content = f.read() #Using f.read to view the content in the file\n",
    "f.close() #Now we close the file knowing what's inside\n",
    "print(content)"
   ]
  },
  {
   "cell_type": "code",
   "execution_count": 10,
   "id": "894a31c2",
   "metadata": {},
   "outputs": [
    {
     "name": "stdout",
     "output_type": "stream",
     "text": [
      "This is line 1\n",
      "This is line 2\n",
      "This is line 3\n",
      "This is line 4\n",
      "This is line 5\n",
      "This is another line\n",
      "\n"
     ]
    }
   ],
   "source": [
    "# Another way to read a file using 'with' statement\n",
    "with open('test.txt', 'r') as f: \n",
    "    content = f.read()\n",
    "f.close()\n",
    "print(content)"
   ]
  },
  {
   "cell_type": "code",
   "execution_count": 12,
   "id": "60ab5cd3",
   "metadata": {},
   "outputs": [],
   "source": [
    "# Try to generate a new TXT file and write some data into it.\n",
    "# Your code here\n",
    "f = open('random.txt', 'w') \n",
    "\n",
    "for i in range(5):\n",
    "    f.write(f\"Hello self {i+1}\\n\") \n",
    "    \n",
    "f.close()\n"
   ]
  },
  {
   "cell_type": "code",
   "execution_count": 13,
   "id": "5a25bd6a",
   "metadata": {},
   "outputs": [
    {
     "name": "stdout",
     "output_type": "stream",
     "text": [
      "Hello self 1\n",
      "Hello self 2\n",
      "Hello self 3\n",
      "Hello self 4\n",
      "Hello self 5\n",
      "\n"
     ]
    }
   ],
   "source": [
    "# Try to read the TXT file you just created and print out the content.\n",
    "# Your code here\n",
    "f = open('./random.txt', 'r')\n",
    "content = f.read()\n",
    "f.close()\n",
    "print(content)"
   ]
  },
  {
   "cell_type": "markdown",
   "id": "9518a052",
   "metadata": {},
   "source": [
    "## Dealing with numbers and arrays\n",
    "\n",
    "Since we are working with numerical methods later, and many times, we work with the numbers or arrays. We could use the above methods to save the numbers or arrays to a file and read it back to the memory. But it is not so convenient this way. Instead, commonly we use the *numpy* package to directly save/read an array. For example, you can use np.savetxt & np.loadtxt as shown below. \n"
   ]
  },
  {
   "cell_type": "code",
   "execution_count": 11,
   "id": "d0a73f29",
   "metadata": {},
   "outputs": [
    {
     "name": "stdout",
     "output_type": "stream",
     "text": [
      "[[1.25 2.21 3.05]\n",
      " [4.13 5.75 6.92]]\n"
     ]
    }
   ],
   "source": [
    "# Store an array to a file named *my_arr.txt* \n",
    "# and read it back to a variable called *my_arr*. \n",
    "import numpy as np\n",
    "arr = np.array([[1.25, 2.21, 3.05], \n",
    "                [4.13, 5.75, 6.92]]) # Use np.array to create the array.\n",
    "np.savetxt('my_arr.txt', arr, fmt='%.2f') #Save the array to a text file w/format and headers specified\n",
    "my_arr = np.loadtxt('my_arr.txt')\n",
    "print(my_arr)\n",
    "# See whether the file 'my_arr.txt' is created in your local folder."
   ]
  },
  {
   "cell_type": "code",
   "execution_count": null,
   "id": "14413768",
   "metadata": {},
   "outputs": [
    {
     "name": "stdout",
     "output_type": "stream",
     "text": [
      "[[5.32 4.42 2.4 ]\n",
      " [3.78 8.27 6.12]\n",
      " [7.91 1.32 9.69]]\n"
     ]
    }
   ],
   "source": [
    "# Try to make a 3x3 matrix using np.array and save it to a file named *my_matrix.txt*.\n",
    "# Then read it back to a variable called *my_matrix* and print it out.\n",
    "\n",
    "import numpy as np  \n",
    "\n",
    "arr = np.array([\n",
    "    [5.32, 4.42, 2.40],\n",
    "    [3.78, 8.27, 6.12],\n",
    "    [7.91, 1.32, 9.69]])\n",
    "\n",
    "np.savetxt('my_matrix.txt', arr, fmt='%.2f')\n",
    "\n",
    "my_matrix = np.loadtxt('my_matrix.txt')\n",
    "\n",
    "print(my_matrix)"
   ]
  },
  {
   "cell_type": "markdown",
   "id": "a592a49d",
   "metadata": {},
   "source": [
    "## Write and open a CSV file\n",
    "CSV files store tabular data. Useful for lists, dictionaries, and arrays.\n",
    "A simple example of using the random number generator to generate 100 rows and 5 columns of data "
   ]
  },
  {
   "cell_type": "code",
   "execution_count": 14,
   "id": "440b8797",
   "metadata": {},
   "outputs": [],
   "source": [
    "import numpy as np\n",
    "data = np.random.random((100,3))\n",
    "np.savetxt('test.csv', data, fmt = '%.2f', delimiter=',', header = 'c1, c2, c3')\n",
    "# See whether the file 'test.csv' is created in your local folder."
   ]
  },
  {
   "cell_type": "markdown",
   "id": "bcb52ad8",
   "metadata": {},
   "source": [
    "## Read a CSV File\n",
    "### Use *np.loadtxt* function\n",
    "We could read in the csv file using the *np.loadtxt* function. Let's read in the csv file we just saved to the disk to a variable *my_csv*, and output the first 5 rows. Note here we use the *delimiter* again to specify that the data in the file is separated by commas. "
   ]
  },
  {
   "cell_type": "code",
   "execution_count": 15,
   "id": "68292f64",
   "metadata": {},
   "outputs": [
    {
     "data": {
      "text/plain": [
       "array([[0.32, 0.74, 0.63],\n",
       "       [0.69, 0.9 , 0.39],\n",
       "       [0.96, 0.31, 0.63],\n",
       "       [0.13, 0.83, 0.93],\n",
       "       [0.1 , 0.24, 0.68],\n",
       "       [0.81, 0.56, 0.33],\n",
       "       [0.1 , 0.15, 0.34],\n",
       "       [0.4 , 0.14, 0.38],\n",
       "       [0.59, 0.35, 0.52],\n",
       "       [0.82, 0.71, 0.28]])"
      ]
     },
     "execution_count": 15,
     "metadata": {},
     "output_type": "execute_result"
    }
   ],
   "source": [
    "my_csv = np.loadtxt('./test.csv', delimiter=',')\n",
    "my_csv[:10]"
   ]
  },
  {
   "cell_type": "markdown",
   "id": "f8da49c2",
   "metadata": {},
   "source": [
    "### Use *np.genfromtxt* to read the file and print out the data."
   ]
  },
  {
   "cell_type": "code",
   "execution_count": null,
   "id": "a97f1174",
   "metadata": {},
   "outputs": [
    {
     "ename": "FileNotFoundError",
     "evalue": "example.csv not found.",
     "output_type": "error",
     "traceback": [
      "\u001b[31m---------------------------------------------------------------------------\u001b[39m",
      "\u001b[31mFileNotFoundError\u001b[39m                         Traceback (most recent call last)",
      "\u001b[36mCell\u001b[39m\u001b[36m \u001b[39m\u001b[32mIn[16]\u001b[39m\u001b[32m, line 4\u001b[39m\n\u001b[32m      1\u001b[39m \u001b[38;5;66;03m# Download the example.csv file from Canvas and put it in your local folder.\u001b[39;00m\n\u001b[32m      2\u001b[39m \u001b[38;5;66;03m# Data include: Name (string), Age (int), City (string)\u001b[39;00m\n\u001b[32m      3\u001b[39m \u001b[38;5;28;01mimport\u001b[39;00m\u001b[38;5;250m \u001b[39m\u001b[34;01mnumpy\u001b[39;00m\u001b[38;5;250m \u001b[39m\u001b[38;5;28;01mas\u001b[39;00m\u001b[38;5;250m \u001b[39m\u001b[34;01mnp\u001b[39;00m\n\u001b[32m----> \u001b[39m\u001b[32m4\u001b[39m data = \u001b[43mnp\u001b[49m\u001b[43m.\u001b[49m\u001b[43mgenfromtxt\u001b[49m\u001b[43m(\u001b[49m\u001b[33;43m'\u001b[39;49m\u001b[33;43mexample.csv\u001b[39;49m\u001b[33;43m'\u001b[39;49m\u001b[43m,\u001b[49m\u001b[43m \u001b[49m\u001b[43mdelimiter\u001b[49m\u001b[43m=\u001b[49m\u001b[33;43m'\u001b[39;49m\u001b[33;43m,\u001b[39;49m\u001b[33;43m'\u001b[39;49m\u001b[43m,\u001b[49m\u001b[43m \u001b[49m\u001b[43mnames\u001b[49m\u001b[43m=\u001b[49m\u001b[38;5;28;43;01mTrue\u001b[39;49;00m\u001b[43m,\u001b[49m\u001b[43m \u001b[49m\u001b[43mdtype\u001b[49m\u001b[43m=\u001b[49m\u001b[38;5;28;43;01mNone\u001b[39;49;00m\u001b[43m,\u001b[49m\u001b[43m \u001b[49m\u001b[43mencoding\u001b[49m\u001b[43m=\u001b[49m\u001b[33;43m'\u001b[39;49m\u001b[33;43mutf-8\u001b[39;49m\u001b[33;43m'\u001b[39;49m\u001b[43m)\u001b[49m\n\u001b[32m      5\u001b[39m \u001b[38;5;66;03m# print(data) # Data contains names, ages and cities.\u001b[39;00m\n\u001b[32m      6\u001b[39m ages = data[\u001b[33m'\u001b[39m\u001b[33mAge\u001b[39m\u001b[33m'\u001b[39m]\n",
      "\u001b[36mFile \u001b[39m\u001b[32mc:\\Users\\ramir\\AppData\\Local\\Programs\\Python\\Python313\\Lib\\site-packages\\numpy\\lib\\_npyio_impl.py:1991\u001b[39m, in \u001b[36mgenfromtxt\u001b[39m\u001b[34m(fname, dtype, comments, delimiter, skip_header, skip_footer, converters, missing_values, filling_values, usecols, names, excludelist, deletechars, replace_space, autostrip, case_sensitive, defaultfmt, unpack, usemask, loose, invalid_raise, max_rows, encoding, ndmin, like)\u001b[39m\n\u001b[32m   1989\u001b[39m     fname = os.fspath(fname)\n\u001b[32m   1990\u001b[39m \u001b[38;5;28;01mif\u001b[39;00m \u001b[38;5;28misinstance\u001b[39m(fname, \u001b[38;5;28mstr\u001b[39m):\n\u001b[32m-> \u001b[39m\u001b[32m1991\u001b[39m     fid = \u001b[43mnp\u001b[49m\u001b[43m.\u001b[49m\u001b[43mlib\u001b[49m\u001b[43m.\u001b[49m\u001b[43m_datasource\u001b[49m\u001b[43m.\u001b[49m\u001b[43mopen\u001b[49m\u001b[43m(\u001b[49m\u001b[43mfname\u001b[49m\u001b[43m,\u001b[49m\u001b[43m \u001b[49m\u001b[33;43m'\u001b[39;49m\u001b[33;43mrt\u001b[39;49m\u001b[33;43m'\u001b[39;49m\u001b[43m,\u001b[49m\u001b[43m \u001b[49m\u001b[43mencoding\u001b[49m\u001b[43m=\u001b[49m\u001b[43mencoding\u001b[49m\u001b[43m)\u001b[49m\n\u001b[32m   1992\u001b[39m     fid_ctx = contextlib.closing(fid)\n\u001b[32m   1993\u001b[39m \u001b[38;5;28;01melse\u001b[39;00m:\n",
      "\u001b[36mFile \u001b[39m\u001b[32mc:\\Users\\ramir\\AppData\\Local\\Programs\\Python\\Python313\\Lib\\site-packages\\numpy\\lib\\_datasource.py:192\u001b[39m, in \u001b[36mopen\u001b[39m\u001b[34m(path, mode, destpath, encoding, newline)\u001b[39m\n\u001b[32m    155\u001b[39m \u001b[38;5;250m\u001b[39m\u001b[33;03m\"\"\"\u001b[39;00m\n\u001b[32m    156\u001b[39m \u001b[33;03mOpen `path` with `mode` and return the file object.\u001b[39;00m\n\u001b[32m    157\u001b[39m \n\u001b[32m   (...)\u001b[39m\u001b[32m    188\u001b[39m \n\u001b[32m    189\u001b[39m \u001b[33;03m\"\"\"\u001b[39;00m\n\u001b[32m    191\u001b[39m ds = DataSource(destpath)\n\u001b[32m--> \u001b[39m\u001b[32m192\u001b[39m \u001b[38;5;28;01mreturn\u001b[39;00m \u001b[43mds\u001b[49m\u001b[43m.\u001b[49m\u001b[43mopen\u001b[49m\u001b[43m(\u001b[49m\u001b[43mpath\u001b[49m\u001b[43m,\u001b[49m\u001b[43m \u001b[49m\u001b[43mmode\u001b[49m\u001b[43m,\u001b[49m\u001b[43m \u001b[49m\u001b[43mencoding\u001b[49m\u001b[43m=\u001b[49m\u001b[43mencoding\u001b[49m\u001b[43m,\u001b[49m\u001b[43m \u001b[49m\u001b[43mnewline\u001b[49m\u001b[43m=\u001b[49m\u001b[43mnewline\u001b[49m\u001b[43m)\u001b[49m\n",
      "\u001b[36mFile \u001b[39m\u001b[32mc:\\Users\\ramir\\AppData\\Local\\Programs\\Python\\Python313\\Lib\\site-packages\\numpy\\lib\\_datasource.py:529\u001b[39m, in \u001b[36mDataSource.open\u001b[39m\u001b[34m(self, path, mode, encoding, newline)\u001b[39m\n\u001b[32m    526\u001b[39m     \u001b[38;5;28;01mreturn\u001b[39;00m _file_openers[ext](found, mode=mode,\n\u001b[32m    527\u001b[39m                               encoding=encoding, newline=newline)\n\u001b[32m    528\u001b[39m \u001b[38;5;28;01melse\u001b[39;00m:\n\u001b[32m--> \u001b[39m\u001b[32m529\u001b[39m     \u001b[38;5;28;01mraise\u001b[39;00m \u001b[38;5;167;01mFileNotFoundError\u001b[39;00m(\u001b[33mf\u001b[39m\u001b[33m\"\u001b[39m\u001b[38;5;132;01m{\u001b[39;00mpath\u001b[38;5;132;01m}\u001b[39;00m\u001b[33m not found.\u001b[39m\u001b[33m\"\u001b[39m)\n",
      "\u001b[31mFileNotFoundError\u001b[39m: example.csv not found."
     ]
    }
   ],
   "source": [
    "# Download the example.csv file from Canvas and put it in your local folder.\n",
    "# Data include: Name (string), Age (int), City (string)\n",
    "import numpy as np\n",
    "data = np.genfromtxt('example.csv', delimiter=',', names=True, dtype=None, encoding='utf-8')\n",
    "# print(data) # Data contains names, ages and cities.\n",
    "ages = data['Age']\n",
    "print(\"Ages:\", ages)\n",
    "# Your code here to read the file and print out the data other than the \"Age\" column.\n",
    "\n",
    "#Couldn't find file :("
   ]
  },
  {
   "cell_type": "markdown",
   "id": "96114743",
   "metadata": {},
   "source": [
    "### Sort data in CSV file and write the sorted data in a new CVS file"
   ]
  },
  {
   "cell_type": "code",
   "execution_count": 17,
   "id": "a8a26b55",
   "metadata": {},
   "outputs": [
    {
     "ename": "ValueError",
     "evalue": "Cannot specify order when the array has no fields.",
     "output_type": "error",
     "traceback": [
      "\u001b[31m---------------------------------------------------------------------------\u001b[39m",
      "\u001b[31mValueError\u001b[39m                                Traceback (most recent call last)",
      "\u001b[36mCell\u001b[39m\u001b[36m \u001b[39m\u001b[32mIn[17]\u001b[39m\u001b[32m, line 4\u001b[39m\n\u001b[32m      1\u001b[39m \u001b[38;5;66;03m# Try to add more lines of data to example.csv by hand and sort the data based on age.\u001b[39;00m\n\u001b[32m      2\u001b[39m \n\u001b[32m      3\u001b[39m \u001b[38;5;66;03m# Sort data based on ages (descending)\u001b[39;00m\n\u001b[32m----> \u001b[39m\u001b[32m4\u001b[39m sorted_data = \u001b[43mnp\u001b[49m\u001b[43m.\u001b[49m\u001b[43msort\u001b[49m\u001b[43m(\u001b[49m\u001b[43mdata\u001b[49m\u001b[43m,\u001b[49m\u001b[43m \u001b[49m\u001b[43morder\u001b[49m\u001b[43m=\u001b[49m\u001b[33;43m'\u001b[39;49m\u001b[33;43mAge\u001b[39;49m\u001b[33;43m'\u001b[39;49m\u001b[43m)\u001b[49m[::-\u001b[32m1\u001b[39m]\n\u001b[32m      5\u001b[39m \u001b[38;5;28mprint\u001b[39m(sorted_data)\n\u001b[32m      7\u001b[39m \u001b[38;5;66;03m# Header for the CSV file\u001b[39;00m\n",
      "\u001b[36mFile \u001b[39m\u001b[32mc:\\Users\\ramir\\AppData\\Local\\Programs\\Python\\Python313\\Lib\\site-packages\\numpy\\_core\\fromnumeric.py:1121\u001b[39m, in \u001b[36msort\u001b[39m\u001b[34m(a, axis, kind, order, stable)\u001b[39m\n\u001b[32m   1119\u001b[39m \u001b[38;5;28;01melse\u001b[39;00m:\n\u001b[32m   1120\u001b[39m     a = asanyarray(a).copy(order=\u001b[33m\"\u001b[39m\u001b[33mK\u001b[39m\u001b[33m\"\u001b[39m)\n\u001b[32m-> \u001b[39m\u001b[32m1121\u001b[39m \u001b[43ma\u001b[49m\u001b[43m.\u001b[49m\u001b[43msort\u001b[49m\u001b[43m(\u001b[49m\u001b[43maxis\u001b[49m\u001b[43m=\u001b[49m\u001b[43maxis\u001b[49m\u001b[43m,\u001b[49m\u001b[43m \u001b[49m\u001b[43mkind\u001b[49m\u001b[43m=\u001b[49m\u001b[43mkind\u001b[49m\u001b[43m,\u001b[49m\u001b[43m \u001b[49m\u001b[43morder\u001b[49m\u001b[43m=\u001b[49m\u001b[43morder\u001b[49m\u001b[43m,\u001b[49m\u001b[43m \u001b[49m\u001b[43mstable\u001b[49m\u001b[43m=\u001b[49m\u001b[43mstable\u001b[49m\u001b[43m)\u001b[49m\n\u001b[32m   1122\u001b[39m \u001b[38;5;28;01mreturn\u001b[39;00m a\n",
      "\u001b[31mValueError\u001b[39m: Cannot specify order when the array has no fields."
     ]
    }
   ],
   "source": [
    "# Try to add more lines of data to example.csv by hand and sort the data based on age.\n",
    "\n",
    "# Sort data based on ages (descending)\n",
    "sorted_data = np.sort(data, order='Age')[::-1]\n",
    "print(sorted_data)\n",
    "\n",
    "# Header for the CSV file\n",
    "header = 'Name, Age, City'\n",
    "\n",
    "# Save the structured array to CSV.\n",
    "# Use one format specifier per field in the structured array: Name (string), Age (int), City (string).\n",
    "# Provide fmt as a list so the number of formats matches the number of columns.\n",
    "np.savetxt('sorted_examples.csv', sorted_data, fmt=['%s','%d','%s'], delimiter=',', header=header, comments='')"
   ]
  },
  {
   "cell_type": "code",
   "execution_count": null,
   "id": "9c6e42d5",
   "metadata": {},
   "outputs": [],
   "source": [
    "# Use the random data generation code to create a CSV file of 100 data, between 0 to 1000. \n",
    "# Sort them and write them to a new \"sorted\" CSV file.\n",
    "# You need to upload the original CSV file and the sorted CSV file. "
   ]
  }
 ],
 "metadata": {
  "kernelspec": {
   "display_name": "Python 3",
   "language": "python",
   "name": "python3"
  },
  "language_info": {
   "codemirror_mode": {
    "name": "ipython",
    "version": 3
   },
   "file_extension": ".py",
   "mimetype": "text/x-python",
   "name": "python",
   "nbconvert_exporter": "python",
   "pygments_lexer": "ipython3",
   "version": "3.13.7"
  }
 },
 "nbformat": 4,
 "nbformat_minor": 5
}
